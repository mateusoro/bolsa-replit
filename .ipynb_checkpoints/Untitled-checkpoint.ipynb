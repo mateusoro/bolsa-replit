{
 "cells": [
  {
   "cell_type": "code",
   "execution_count": 41,
   "metadata": {},
   "outputs": [
    {
     "name": "stdout",
     "output_type": "stream",
     "text": [
      "10\n",
      "22\n",
      "MatchesDict([('language', 'und'), ('release_group', 'WWW,AZTORRENTS.ORG'), ('episode', [10, 22]), ('title', 'We Are Never Ever Getting Back Together'), ('container', 'avi'), ('mimetype', 'video/x-msvideo'), ('type', 'episode')])\n"
     ]
    }
   ],
   "source": [
    "import re\n",
    "from guessit import guessit\n",
    "\n",
    "nome = \"Grey's Anatomy .10ª Temporada Dub.WWW,AZTORRENTS.ORG/10.22 We Are Never Ever Getting Back Together.avi\"\n",
    "\n",
    "def busca_temporada(nome):\n",
    "    se = re.findall(' ([0-9])ª Tempo| ([0-9][0-9])ª Tempo| \\.([0-9])ª Tempo| \\.([0-9][0-9])ª Tempo', nome, re.IGNORECASE)\n",
    "    if len(se) > 0:\n",
    "        for r in se[0]:\n",
    "            if len(r) > 0:            \n",
    "                return r\n",
    "    return \"\"\n",
    "\n",
    "def busca_episodeo(nome):\n",
    "    se = re.findall('/([0-9]) - |/([0-9][0-9]) - |/([0-9][0-9]) |[0-9]\\.([0-9][0-9]) ', nome, re.IGNORECASE)\n",
    "    if len(se) > 0:\n",
    "        for r in se[0]:\n",
    "            if len(r) > 0:            \n",
    "                return r\n",
    "    return \"\"\n",
    "\n",
    "\n",
    "print(busca_temporada(nome))\n",
    "print(busca_episodeo(nome))\n",
    "convert = guessit(nome)\n",
    "print(convert)\n",
    "    "
   ]
  },
  {
   "cell_type": "code",
   "execution_count": null,
   "metadata": {},
   "outputs": [],
   "source": []
  },
  {
   "cell_type": "code",
   "execution_count": null,
   "metadata": {},
   "outputs": [],
   "source": []
  }
 ],
 "metadata": {
  "kernelspec": {
   "display_name": "Python 3",
   "language": "python",
   "name": "python3"
  },
  "language_info": {
   "codemirror_mode": {
    "name": "ipython",
    "version": 3
   },
   "file_extension": ".py",
   "mimetype": "text/x-python",
   "name": "python",
   "nbconvert_exporter": "python",
   "pygments_lexer": "ipython3",
   "version": "3.8.5"
  }
 },
 "nbformat": 4,
 "nbformat_minor": 4
}
