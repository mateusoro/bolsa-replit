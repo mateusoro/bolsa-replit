{
 "cells": [
  {
   "cell_type": "code",
   "execution_count": 44,
   "metadata": {},
   "outputs": [
    {
     "name": "stdout",
     "output_type": "stream",
     "text": [
      "6\n",
      "9\n",
      "MatchesDict([('title', \"Grey's Anatomy 6ª Temporada –\"), ('source', 'HDTV'), ('release_group', 'ComandoFilmes'), ('container', 'mp4'), ('mimetype', 'video/mp4'), ('type', 'movie')])\n"
     ]
    }
   ],
   "source": [
    "import re\n",
    "from guessit import guessit\n",
    "\n",
    "nome = \"Grey's Anatomy 6ª Temporada – HDTV - ComandoFilmes/9-New History_.mp4\"\n",
    "\n",
    "def busca_temporada(nome):\n",
    "    se = re.findall(' ([0-9])ª Tempo| ([0-9][0-9])ª Tempo| \\.([0-9])ª Tempo| \\.([0-9][0-9])ª Tempo', nome, re.IGNORECASE)\n",
    "    if len(se) > 0:\n",
    "        for r in se[0]:\n",
    "            if len(r) > 0:            \n",
    "                return r\n",
    "    return \"\"\n",
    "\n",
    "def busca_episodeo(nome):\n",
    "    se = re.findall('/([0-9]) - |/([0-9][0-9]) - |/([0-9])-|/([0-9][0-9])-|/([0-9][0-9]) |[0-9]\\.([0-9][0-9]) ', nome, re.IGNORECASE)\n",
    "    if len(se) > 0:\n",
    "        for r in se[0]:\n",
    "            if len(r) > 0:            \n",
    "                return r\n",
    "    return \"\"\n",
    "\n",
    "\n",
    "print(busca_temporada(nome))\n",
    "print(busca_episodeo(nome))\n",
    "convert = guessit(nome)\n",
    "print(convert)\n",
    "    "
   ]
  },
  {
   "cell_type": "code",
   "execution_count": 2,
   "metadata": {},
   "outputs": [
    {
     "name": "stdout",
     "output_type": "stream",
     "text": [
      "teste tet\n"
     ]
    }
   ],
   "source": [
    "a = \"teste tet\"\n",
    "a.split(\" \")\n",
    "print(a[0])"
   ]
  },
  {
   "cell_type": "code",
   "execution_count": null,
   "metadata": {},
   "outputs": [],
   "source": []
  }
 ],
 "metadata": {
  "kernelspec": {
   "display_name": "Python 3",
   "language": "python",
   "name": "python3"
  },
  "language_info": {
   "codemirror_mode": {
    "name": "ipython",
    "version": 3
   },
   "file_extension": ".py",
   "mimetype": "text/x-python",
   "name": "python",
   "nbconvert_exporter": "python",
   "pygments_lexer": "ipython3",
   "version": "3.8.5"
  }
 },
 "nbformat": 4,
 "nbformat_minor": 4
}
